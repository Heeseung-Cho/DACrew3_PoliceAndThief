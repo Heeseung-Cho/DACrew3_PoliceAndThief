{
 "cells": [
  {
   "cell_type": "markdown",
   "id": "f3dbb144",
   "metadata": {},
   "source": [
    "### tqdm = Process bar\n",
    "\n",
    "Python으로 어떤 작업을 수행중일 때, 프로그램이 내가 의도한 데로 돌아가고 있는 중인가, 진행상황이 궁금할 때 사용.\n",
    "시간이 걸리는 작업의 경우에는 더 이런 상태 확인이 필요하다."
   ]
  },
  {
   "cell_type": "code",
   "execution_count": 5,
   "id": "b60f391b",
   "metadata": {},
   "outputs": [
    {
     "name": "stderr",
     "output_type": "stream",
     "text": [
      "100%|█████████████████████████████████████████████████████████████████| 4/4 [00:01<00:00,  3.96it/s]\n"
     ]
    }
   ],
   "source": [
    "from tqdm import tqdm\n",
    "import time\n",
    "\n",
    "number=\"\"\n",
    "for char in tqdm([\"1\",\"2\",\"3\",\"4\"]):\n",
    "    time.sleep(0.25)\n",
    "    number=number+char"
   ]
  },
  {
   "cell_type": "code",
   "execution_count": 6,
   "id": "8c47854f",
   "metadata": {},
   "outputs": [
    {
     "name": "stderr",
     "output_type": "stream",
     "text": [
      "process bar: 100%|████████████████████████████████████████████████| 100/100 [00:10<00:00,  9.81it/s]\n"
     ]
    }
   ],
   "source": [
    "from tqdm import tqdm\n",
    "import time\n",
    "\n",
    "for i in tqdm(range(100),desc=\"process bar\", mininterval=0.1): #mininterval =최소 업데이트 주기\n",
    "    time.sleep(0.1)\n",
    "    "
   ]
  },
  {
   "cell_type": "markdown",
   "id": "3cc39ca5",
   "metadata": {},
   "source": [
    "### tqdm 파라미터 설명\n",
    "\n",
    "- iterable : 반복자 객체\n",
    "- desc : 진행바 앞에 text 출력\n",
    "- total : int, 전체 반복량\n",
    "- leave : bool, default로 True.(진행 상태 잔상이 남음.)\n",
    "- mininterval, maxinterval : 업데이트 주기. 기본은 min=0.1,max=10\n",
    "- ascii : True로 하면 '#'문자로 진행바가 표시됨.\n",
    "- initial : 진행 시작값. 기본은 0\n",
    "- bar_format : str"
   ]
  },
  {
   "cell_type": "markdown",
   "id": "906b633d",
   "metadata": {},
   "source": [
    "### Method\n",
    "\n",
    "- clear() : 삭제\n",
    "- refresh() : 강제 갱신"
   ]
  },
  {
   "cell_type": "markdown",
   "id": "744b7e27",
   "metadata": {},
   "source": [
    "#with구문을 사용해서 tqdm을 수동으로 컨트롤.update()로 수동 진행률 증가.\n",
    "\n",
    "with tqdm(total=100) as bar:\n",
    "    for i in range(10):\n",
    "        time.sleep(0.1)\n",
    "        bar.update(15) #15씩 증가"
   ]
  },
  {
   "cell_type": "code",
   "execution_count": null,
   "id": "a7a97b76",
   "metadata": {},
   "outputs": [],
   "source": [
    "with tqdm(total=100) as bar:\n",
    "    for i in range(10):\n",
    "        time.sleep(0.1)\n",
    "        bar.update(15) #15씩 증가"
   ]
  }
 ],
 "metadata": {
  "kernelspec": {
   "display_name": "Python 3 (ipykernel)",
   "language": "python",
   "name": "python3"
  },
  "language_info": {
   "codemirror_mode": {
    "name": "ipython",
    "version": 3
   },
   "file_extension": ".py",
   "mimetype": "text/x-python",
   "name": "python",
   "nbconvert_exporter": "python",
   "pygments_lexer": "ipython3",
   "version": "3.7.11"
  }
 },
 "nbformat": 4,
 "nbformat_minor": 5
}
