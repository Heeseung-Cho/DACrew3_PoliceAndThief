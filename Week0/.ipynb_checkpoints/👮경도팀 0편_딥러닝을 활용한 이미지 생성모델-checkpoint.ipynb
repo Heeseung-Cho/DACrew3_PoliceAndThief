{
 "cells": [
  {
   "cell_type": "markdown",
   "metadata": {
    "id": "sYmZFPrFwjgw"
   },
   "source": [
    "# 팀 소개"
   ]
  },
  {
   "cell_type": "markdown",
   "metadata": {},
   "source": [
    "안녕하세요. 데이크루 3기 👮**경도(경찰과 도둑)**팀 입니다!\n",
    "\n",
    "저희는 **“딥러닝을 활용한 이미지 생성모델”**이란 주제로 8주동안 함께 공부하고, 공부한 내용을 게시글로써 데이콘 이용자분들께 공유하고자 합니다.\n",
    "\n",
    "생성모델을 처음 접하시는 분들도 이해하기 쉽도록 차근차근 설명해 드릴 예정이니 저희와 함께 공부해 보시는 건 어떨까요 ? ヽ(^。^)ノ"
   ]
  },
  {
   "cell_type": "markdown",
   "metadata": {},
   "source": [
    "---"
   ]
  },
  {
   "cell_type": "code",
   "execution_count": null,
   "metadata": {},
   "outputs": [],
   "source": []
  },
  {
   "cell_type": "code",
   "execution_count": null,
   "metadata": {},
   "outputs": [],
   "source": []
  },
  {
   "cell_type": "markdown",
   "metadata": {
    "id": "De8t4uTiyIv4"
   },
   "source": [
    "### **1. 하이퍼 파라미터 튜닝의 필요성**\n",
    "\n",
    "먼저, 하이퍼 파라미터에 대해 알아야겠죠?\n",
    "\n",
    "머신러닝에서 하이퍼 파라미터란 간단하게 말해 <U>사용자의 입력값, 즉 우리가 설정 가능한 입력값</U>이라고 이해할 수 있습니다.\n",
    "\n",
    "사용할 데이터에 따라 가장 적합한 모델, 그리고 그 모델의 하이퍼 파라미터값이 다릅니다.\n",
    "\n",
    "즉, 만능의 모델, 만능의 파라미터값은 없다는 말이 되겠죠 ,,,\n",
    "\n",
    "그래서 데이터마다 좋은 파라미터 입력값을 하나하나 찾아주는 작업이 필요한데, 이를 **하이퍼 파라미터 튜닝**이라고 합니다.\n",
    "\n",
    "예를 들어서, 'K-최근접 이웃 알고리즘(KNN)'에서는 거리가 가까운 몇 개의 데이터를 참고할 것인지를 의미하는 'k'값을 설정할 수 있습니다. \n",
    "\n",
    "즉, 여기서 k가 하이퍼 파라미터가 되는 것인데 k를 3으로도 해보고, 5로도 해보고, 10으로도 해 본 다음 그 가운데 가장 좋은 k를 찾는 과정이 하이퍼 파라미터 튜닝이 되는 것이죠. \n",
    "\n",
    "**직접 입력값을 하나하나 넣고 결과를 도출해보기 전까지는 어떤 입력값이 좋을 지 전혀 예측할 수 없습니다.**\n",
    "\n",
    "\n",
    "따라서, 머신러닝 모델을 만들 때마다 파라미터가 굉장히 많고, 어떤 값을 넣어줘야할지 고민하게 되는데요 ...\n",
    "\n",
    "이럴 때 사용할 수 있는 모듈이 바로  **GridSearchCV** 입니다!\n",
    "\n",
    "\n",
    "\n"
   ]
  },
  {
   "cell_type": "markdown",
   "metadata": {
    "id": "36kzFN1myW0k"
   },
   "source": [
    "### **2. GridSearchCV**\n",
    "\n",
    "sklearn의 모듈 GridSearchCV는 머신러닝 알고리즘에 사용되는 하이퍼 파라미터를 입력해 학습을 하고 측정을 하면서 가장 좋은 파라미터를 알려줍니다.\n",
    "\n",
    "\n",
    "따라서 **실험 하려는 하이퍼파라미터와 값 범위를 지정**하기만 하면 GridSearchCV는\n",
    "교차 검증을 사용하여 하이퍼파라미터 값의 가능한 모든 조합을 수행합니다.\n",
    "\n",
    "GridSearchCV 에 목표로하는 하이퍼 파라미터 별로 리스트를 만들어 딕셔너리 형태로 파라미터 셋을 입력해주면 됩니다."
   ]
  },
  {
   "cell_type": "markdown",
   "metadata": {
    "id": "in2V9JqwybET"
   },
   "source": [
    "\n",
    "### **3. GridSearchCV 의 파라미터**\n",
    "\n",
    "- **estimator** : 보통 알고리즘을 객체로 만들어 넣어준다.\n",
    "\n",
    "- **param_grid** : 튜닝을 위한 대상 파라미터, 사용될 파라미터를 딕셔너리 형태로 넣어준다.\n",
    "\n",
    "- **scoring** : 예측 성능을 측정할 평가 방법을 넣는다. 분류 알고리즘일 때는, 'accuracy', 'f1',  회귀 알고리즘일 때는 'neg_mean_squared_error', 'r2' 등을 넣을 수 있다.\n",
    "\n",
    "- **cv** : 교차 검증에서 몇개로 분할되는지 지정한다.(정수로 넣어주면 K겹 교차검증이 되고, KFold(k) 이런식으로 넣어주어도 무방 // default 값은 cv=3)\n",
    "\n",
    "- **refit** : True로 하면 최적의 하이퍼 파라미터를 찾아서 estimator를 재학습시킨다. (default 값이 True임)"
   ]
  },
  {
   "cell_type": "markdown",
   "metadata": {
    "id": "QJv1HoO7ykxr"
   },
   "source": [
    "### **4. GridSearchCV 의 메서드**\n",
    "\n",
    "- **GridSearchCV객체.best_params_** : 최적 하이퍼 파라미터 조합\n",
    "\n",
    "- **GridSearchCV객체.best_score_** : 최고 평균 정확도 수치\n",
    "\n",
    "마지막으로 **GridSearchCV객체.best_estimator_** 는 GridSearchCV의 refit으로 이미 학습이 된 estimator 반환합니다."
   ]
  },
  {
   "cell_type": "markdown",
   "metadata": {
    "id": "TnkAba5jy0Ft"
   },
   "source": [
    "### **5. RandomizedSearchCV**\n",
    "\n",
    "GridSearch의 단점을 보완할 수 있는 sklearn의 다른 하이퍼 파라미터 튜닝 방법을 소개해보겠습니다.\n",
    "\n",
    "**RandomizedSearchCV는** GridSearch 와 동일한 방식으로 사용하지만 모든 조합을 다 시도하지는 않고, 각 반복마다 임의의 값만 대입해 지정한 횟수만큼 평가합니다.\n",
    "\n",
    "즉, 몇 번 학습과 평가를 반복할 것인지 **시도의 수를 우리가 설정할 수 있기 때문에 비교적 시간이 적게 걸립니다**.\n",
    "\n",
    "RandomizedSearchCV 가 사용하는 인자들은 GridSearchCV와 거의 동일하지만, **n_iter** 라는 인자가 추가되었고 param_grid 대신 **param_distributions** 를 사용합니다.\n",
    "\n",
    "\n",
    "- **param_distributions** : 튜닝을 위한 대상 파라미터, 사용될 파라미터를 딕셔너리 형태로 넣어준다.\n",
    "\n",
    "- **n_iter** : 파라미터 검색 횟수\n",
    "\n",
    "\n",
    "n_iter 의 default는 **10** 이며, RandomizedSearchCV 는 우리가 n_iter에 지정한 횟수만큼만 조합을 반복하여 평가하게 됩니다."
   ]
  }
 ],
 "metadata": {
  "colab": {
   "name": "이론 코드 공유 파일 예시.ipynb",
   "provenance": []
  },
  "kernelspec": {
   "display_name": "Python 3",
   "language": "python",
   "name": "python3"
  },
  "language_info": {
   "codemirror_mode": {
    "name": "ipython",
    "version": 3
   },
   "file_extension": ".py",
   "mimetype": "text/x-python",
   "name": "python",
   "nbconvert_exporter": "python",
   "pygments_lexer": "ipython3",
   "version": "3.7.6"
  },
  "toc": {
   "base_numbering": 1,
   "nav_menu": {},
   "number_sections": true,
   "sideBar": true,
   "skip_h1_title": false,
   "title_cell": "Table of Contents",
   "title_sidebar": "Contents",
   "toc_cell": false,
   "toc_position": {},
   "toc_section_display": true,
   "toc_window_display": false
  },
  "varInspector": {
   "cols": {
    "lenName": 16,
    "lenType": 16,
    "lenVar": 40
   },
   "kernels_config": {
    "python": {
     "delete_cmd_postfix": "",
     "delete_cmd_prefix": "del ",
     "library": "var_list.py",
     "varRefreshCmd": "print(var_dic_list())"
    },
    "r": {
     "delete_cmd_postfix": ") ",
     "delete_cmd_prefix": "rm(",
     "library": "var_list.r",
     "varRefreshCmd": "cat(var_dic_list()) "
    }
   },
   "types_to_exclude": [
    "module",
    "function",
    "builtin_function_or_method",
    "instance",
    "_Feature"
   ],
   "window_display": false
  }
 },
 "nbformat": 4,
 "nbformat_minor": 1
}
