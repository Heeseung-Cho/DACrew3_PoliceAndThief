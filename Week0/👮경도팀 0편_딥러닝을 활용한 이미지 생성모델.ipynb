{
 "cells": [
  {
   "cell_type": "markdown",
   "metadata": {
    "id": "sYmZFPrFwjgw"
   },
   "source": [
    "# 팀 소개"
   ]
  },
  {
   "cell_type": "markdown",
   "metadata": {},
   "source": [
    "안녕하세요. 데이크루 3기 👮**경도(경찰과 도둑)**팀 입니다!\n",
    "\n",
    "저희는 **“딥러닝을 활용한 이미지 생성모델”**이란 주제로 8주동안 함께 공부하고, 공부한 내용을 게시글로써 데이콘 이용자분들께 공유하고자 합니다.\n",
    "\n",
    "생성모델을 처음 접하시는 분들도 이해하기 쉽도록 차근차근 설명해 드릴 예정이니 저희와 함께 공부해 보시는 건 어떨까요 ? ヽ(^。^)ノ\n",
    "\n",
    "**본 포스팅은 데이콘 서포터즈 “데이크루” 3기 활동의 일환입니다.**"
   ]
  },
  {
   "cell_type": "markdown",
   "metadata": {},
   "source": [
    "---"
   ]
  },
  {
   "cell_type": "markdown",
   "metadata": {
    "id": "De8t4uTiyIv4"
   },
   "source": [
    "# Intro\n",
    "\n",
    "현재 인공지능은 다양한 산업군에서 좋은 결과물들을 생산해내고 있습니다. \n",
    "\n",
    "전통적인 제조 산업 분야에서 인공지능은  제품 불량율 예측, 기계 수명 및 고장 예측 등 인공지능을 통해 비용 절감과 안정성을 확보하는 역할을 하며 자율주행 자동차, 로봇, 우주과학 등 다양한 산업 분야에 접목되어 활약 중입니다.\n",
    "\n",
    "그리고 챗봇,  추천시스템,  사물인식,  음성인식 등의 AI는 일상에서 쉽게 접할 수 있을 만큼 우리 삶에 가까이 다가와 있습니다."
   ]
  },
  {
   "cell_type": "markdown",
   "metadata": {},
   "source": [
    "<img src=\"https://user-images.githubusercontent.com/37393115/178479592-2557259e-3f2a-441f-8b8b-16e59e54e56a.png\" width=\"400\" height=\"400\">"
   ]
  },
  {
   "cell_type": "markdown",
   "metadata": {},
   "source": [
    "인공지능의 활용이 늘어남에 따라 중요해지기 시작한 문제는 다름 아닌 **인공지능 학습을 위한 ‘데이터’에 대한 문제**였습니다.\n",
    "\n",
    "인공지능은 현실의 문제를 풀기 위해서 마치 어린 아이가 공부를 위해 문제집을 풀고, 시험을 통해 자신의 능력을 평가 받는 것처럼 답이 정해져 있는 데이터들을 스스로 학습하고, 학습한 내용을 통해 적용할 문제들을 풀어 성능을 평가 받습니다.\n",
    "\n",
    "“책은 사람에게 있어 마음의 양식이다.” 라는 말을 알고 계신가요? 책은 우리의 건강을 책임지는 영양분처럼 지식을 살찌게하고 스스로 발전할 수 있는 힘을 줍니다. 이와 비슷하게 인공지능에게 데이터는 성능을 끌어올려주는 일용할 양식이라고 볼 수 있습니다.\n",
    "\n",
    "생성모델은 이 데이터를 활용해 **해당 데이터들의 분포를 따르는 유사한 데이터를 생성해내는 일을 합니다**. 즉, 주어진 데이터와 특징이 같은 혹은 비슷한 데이터를 새로 만들어 내는 일을 하는 인공지능이라고 생각하시면 됩니다."
   ]
  },
  {
   "cell_type": "markdown",
   "metadata": {},
   "source": [
    "<img src=\"https://user-images.githubusercontent.com/37393115/178479669-b3584a13-e0d4-4594-9207-7949a09989ac.png\" width=\"300\" height=\"300\">"
   ]
  },
  {
   "cell_type": "markdown",
   "metadata": {},
   "source": [
    "*화성 갈끄니까~* 라는 말을 들어보셨나요? 가상화폐가 한참 유행할 때 일론 머스크가 노래를 부르는 동영상이 밈처럼 유행한 적이 있었죠! 그러나 아시다시피 이는 실제로 일론 머스크가 부른 내용이 아닙니다. 해당 동영상은 **DeepFake**를 통해 일론 머스크의 이미지를 이용한 가상의 동영상입니다. \n",
    "\n",
    "아직 생소하게 느껴지실 분들을 위해 예시를 하나 더 들어 보겠습니다.\n",
    "\n",
    "아래 이미지와 유사하게 자신이 찍은 사진을 애니메이션이나 캐리커쳐 형식의 그림으로 변환해 본 경험이 있지 않으신가요? 또는 포토샵 어플로 미용실에 가기 전 머리 색을 바꾸어 본 경험도 한 번쯤은 있으실 겁니다."
   ]
  },
  {
   "cell_type": "markdown",
   "metadata": {},
   "source": [
    "<img src=\"https://user-images.githubusercontent.com/37393115/178479771-e022ca10-7f3c-4ec2-b633-2f87d236b25e.png\" width=\"300\" height=\"200\">\n",
    "<img src=\"https://user-images.githubusercontent.com/37393115/178479785-268558a2-68d2-42f7-8b81-f9057f77b384.png\" width=\"300\" height=\"200\">"
   ]
  },
  {
   "cell_type": "markdown",
   "metadata": {
    "id": "36kzFN1myW0k"
   },
   "source": [
    "우리가 이렇게 살펴본 DeepFake, 그림 변환 기능들은 모두 생성 모델을 활용한 예시로, GAN이라는 모델을 시작으로 점점 AI 트랜드로서 자리잡고 있습니다.\n",
    "\n",
    "생각보다 우리가 일상생활에서 가까이 접할 수 있는 인공지능 중에 하나라고 할 수 있죠! 그렇다면 생성 모델에 대해 이론적인 접근부터, 생성모델의 서막인 GAN과 그 파생모델 및 생성모델을 공부하는 이유 등 생성모델에 대한 기본적인 내용들을 차근차근 알아가 볼 예정입니다!  😊"
   ]
  },
  {
   "cell_type": "markdown",
   "metadata": {},
   "source": [
    "---"
   ]
  },
  {
   "cell_type": "markdown",
   "metadata": {
    "id": "in2V9JqwybET"
   },
   "source": [
    "# 콘텐츠 소개\n",
    "\n",
    "👮경도 팀은 이번 8주동안 생성모델에 대한 이론과 구현하는 방법을 다루고자 합니다.\n",
    "\n",
    "\n",
    "## 목차\n",
    "목차는 다음과 같이 구성하였습니다.\n",
    "\n",
    "[👮**경도** 1주차 이론] **생성모델이란 무엇인가?**\n",
    "\n",
    "[👮**경도** 2주차 이론] **텐서(Tensor) 무엇인가?**\n",
    "\n",
    "[👮**경도** 3주차 이론] **딥러닝 기본 다지기**\n",
    "\n",
    "[👮**경도** 4주차 실습] **딥러닝 구현하기**\n",
    "\n",
    "[👮**경도** 5주차 이론] **생성모델 파헤치기**\n",
    "\n",
    "[👮**경도** 6주차 이론] **생성모델 구현하기**\n",
    "\n",
    "[👮**경도** 7주차 이론] **생성모델의 트랜드**\n",
    "\n",
    "[👮**경도** 8주차 실습] **생성모델 프로젝트 - DeepFake 탐지기를 속여보자!**\n",
    "\n"
   ]
  },
  {
   "cell_type": "markdown",
   "metadata": {},
   "source": [
    "---"
   ]
  },
  {
   "cell_type": "markdown",
   "metadata": {
    "id": "QJv1HoO7ykxr"
   },
   "source": [
    "👮경도 팀과 함께 여러분도 딥러닝과 생성모델에 대해 알아가는 시간을 가졌으면 합니다.\n",
    "\n",
    "업로드는 매주 화요일에 올라올 예정입니다. 많은 관심 부탁드립니다!\n",
    "\n",
    "**감사합니다!**😊"
   ]
  }
 ],
 "metadata": {
  "colab": {
   "name": "이론 코드 공유 파일 예시.ipynb",
   "provenance": []
  },
  "kernelspec": {
   "display_name": "Python 3",
   "language": "python",
   "name": "python3"
  },
  "language_info": {
   "codemirror_mode": {
    "name": "ipython",
    "version": 3
   },
   "file_extension": ".py",
   "mimetype": "text/x-python",
   "name": "python",
   "nbconvert_exporter": "python",
   "pygments_lexer": "ipython3",
   "version": "3.7.6"
  },
  "toc": {
   "base_numbering": 1,
   "nav_menu": {},
   "number_sections": true,
   "sideBar": true,
   "skip_h1_title": false,
   "title_cell": "Table of Contents",
   "title_sidebar": "Contents",
   "toc_cell": false,
   "toc_position": {},
   "toc_section_display": true,
   "toc_window_display": false
  },
  "varInspector": {
   "cols": {
    "lenName": 16,
    "lenType": 16,
    "lenVar": 40
   },
   "kernels_config": {
    "python": {
     "delete_cmd_postfix": "",
     "delete_cmd_prefix": "del ",
     "library": "var_list.py",
     "varRefreshCmd": "print(var_dic_list())"
    },
    "r": {
     "delete_cmd_postfix": ") ",
     "delete_cmd_prefix": "rm(",
     "library": "var_list.r",
     "varRefreshCmd": "cat(var_dic_list()) "
    }
   },
   "types_to_exclude": [
    "module",
    "function",
    "builtin_function_or_method",
    "instance",
    "_Feature"
   ],
   "window_display": false
  }
 },
 "nbformat": 4,
 "nbformat_minor": 1
}
