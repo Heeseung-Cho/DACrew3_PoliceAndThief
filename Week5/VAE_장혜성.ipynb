{
 "cells": [
  {
   "cell_type": "markdown",
   "metadata": {},
   "source": [
    "# Variational autoencoder(VAE)"
   ]
  },
  {
   "cell_type": "markdown",
   "metadata": {},
   "source": [
    "- VAE는 Generative model 이며 input 이 noise vector 가 아닌 이미지인 모델로 VAE의 궁극적인 목표는 모델을 통해서 생성된 이미지가 학습에 사용된 이미지 데이터셋에 대해 가지는 유사도를 가장 높일 수 있는 model parameters 를 학습하는 것입니다.\n",
    "- 크게 encoder, decoder, 그리고 latent space로 구성된 구조를 가집니다.\n"
   ]
  },
  {
   "cell_type": "markdown",
   "metadata": {},
   "source": [
    "![image](https://www.researchgate.net/publication/333573656/figure/fig1/AS:765699362398208@1559568362329/Variational-AutoEncoder-VAE-architecture.png)"
   ]
  },
  {
   "cell_type": "markdown",
   "metadata": {},
   "source": [
    "## 1. Encoder"
   ]
  },
  {
   "cell_type": "markdown",
   "metadata": {},
   "source": [
    "- input을 latent space로 변환하는 역할을 수행합니다. Input x를 학습한다면 latent vector z의 분포인 q(z|x)의 근사치를 찾는것을 목표로 합니다. "
   ]
  },
  {
   "cell_type": "markdown",
   "metadata": {},
   "source": [
    "## 2. Decoder"
   ]
  },
  {
   "cell_type": "markdown",
   "metadata": {},
   "source": [
    "- Decoder는 반대로 latent space를 input기반으로 변환하는 역할을 합니다. latent vector z 가 주어지면 q(z|x)의 근사치를 찾아 유사한 p(x|z)를 생성함을 목적으로 합니다. 즉. Input x와 유사한 latent 특성을 가진 이미지를 생성해주는것입니다. \n",
    "- input x 를 generate하기 때문에, 모델에서 decoder가 Generative model의 역할을 하는것을 살펴볼 수 있습니다."
   ]
  },
  {
   "cell_type": "markdown",
   "metadata": {},
   "source": [
    "## 3. Latent Space"
   ]
  },
  {
   "cell_type": "markdown",
   "metadata": {},
   "source": [
    "- Latent Space는 데이터를 잘 설명할 수 있는 내용을 포함한 공간이라고 할 수 있습니다. autoencoder와 달리 VAE는 이 latent space를 기반으로 output을 만들긴 하지만, noise를 샘플링해 이를 이용해 latent space를 만든다는 차이가 있다. "
   ]
  },
  {
   "cell_type": "markdown",
   "metadata": {},
   "source": [
    "## 4. ELBO(Evidence Lower Bound)"
   ]
  },
  {
   "cell_type": "markdown",
   "metadata": {},
   "source": [
    "- ELBO를 로스함수로 사용(크로스 엔트로피 + KL divergence 후 평균을 낸 값을 사용)"
   ]
  },
  {
   "cell_type": "markdown",
   "metadata": {},
   "source": []
  }
 ],
 "metadata": {
  "kernelspec": {
   "display_name": "Python 3.9.12 ('PR1': venv)",
   "language": "python",
   "name": "python3"
  },
  "language_info": {
   "name": "python",
   "version": "3.9.12"
  },
  "orig_nbformat": 4,
  "vscode": {
   "interpreter": {
    "hash": "783d77da72e2987a17ca9f0d62fde790e2fff2dc52e843a963dfb29cfffcbe9d"
   }
  }
 },
 "nbformat": 4,
 "nbformat_minor": 2
}
